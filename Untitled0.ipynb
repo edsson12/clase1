{
  "nbformat": 4,
  "nbformat_minor": 0,
  "metadata": {
    "colab": {
      "name": "Untitled0.ipynb",
      "provenance": [],
      "authorship_tag": "ABX9TyOB+I8ysLh3ulVkFP08snfr",
      "include_colab_link": true
    },
    "kernelspec": {
      "name": "python3",
      "display_name": "Python 3"
    }
  },
  "cells": [
    {
      "cell_type": "markdown",
      "metadata": {
        "id": "view-in-github",
        "colab_type": "text"
      },
      "source": [
        "<a href=\"https://colab.research.google.com/github/edsson12/clase1/blob/master/Untitled0.ipynb\" target=\"_parent\"><img src=\"https://colab.research.google.com/assets/colab-badge.svg\" alt=\"Open In Colab\"/></a>"
      ]
    },
    {
      "cell_type": "code",
      "metadata": {
        "id": "wAxF7-5JjLr4",
        "colab_type": "code",
        "colab": {
          "base_uri": "https://localhost:8080/",
          "height": 122
        },
        "outputId": "7d59862b-d0e6-4e22-b27e-2696b4c1e21d"
      },
      "source": [
        "from google.colab import drive\n",
        "drive.mount('/content/drive')"
      ],
      "execution_count": 1,
      "outputs": [
        {
          "output_type": "stream",
          "text": [
            "Go to this URL in a browser: https://accounts.google.com/o/oauth2/auth?client_id=947318989803-6bn6qk8qdgf4n4g3pfee6491hc0brc4i.apps.googleusercontent.com&redirect_uri=urn%3aietf%3awg%3aoauth%3a2.0%3aoob&response_type=code&scope=email%20https%3a%2f%2fwww.googleapis.com%2fauth%2fdocs.test%20https%3a%2f%2fwww.googleapis.com%2fauth%2fdrive%20https%3a%2f%2fwww.googleapis.com%2fauth%2fdrive.photos.readonly%20https%3a%2f%2fwww.googleapis.com%2fauth%2fpeopleapi.readonly\n",
            "\n",
            "Enter your authorization code:\n",
            "··········\n",
            "Mounted at /content/drive\n"
          ],
          "name": "stdout"
        }
      ]
    },
    {
      "cell_type": "code",
      "metadata": {
        "id": "Yb7I4ZsxmiS2",
        "colab_type": "code",
        "colab": {}
      },
      "source": [
        "import numpy as np\n",
        "import matplotlib.pyplot as plt\n",
        "import cv2\n",
        "\n",
        "%matplotlib inline\n"
      ],
      "execution_count": 0,
      "outputs": []
    },
    {
      "cell_type": "code",
      "metadata": {
        "id": "SESe62PloNYv",
        "colab_type": "code",
        "colab": {
          "base_uri": "https://localhost:8080/",
          "height": 385
        },
        "outputId": "b8887e11-9c44-44e0-fa9a-fdc1e8453786"
      },
      "source": [
        "!pwd\n",
        "!ls\n",
        "#%cd ../\n",
        "%cd /content/drive/My Drive/PDI/\n",
        "!pwd\n",
        "\n",
        "from google.colab.patches import cv2_imshow\n",
        "img = cv2.imread('pdi.png', cv2.IMREAD_UNCHANGED)\n",
        "img = cv2.resize(img,(int(500), int(300)))\n",
        "cv2_imshow(img)\n"
      ],
      "execution_count": 19,
      "outputs": [
        {
          "output_type": "stream",
          "text": [
            "/content/drive/My Drive/PDI\n",
            "pdi.png\n",
            "/content/drive/My Drive/PDI\n",
            "/content/drive/My Drive/PDI\n"
          ],
          "name": "stdout"
        },
        {
          "output_type": "display_data",
          "data": {
            "image/png": "[encoded data removed]",
            "text/plain": [
              "<PIL.Image.Image image mode=RGB size=500x300 at 0x7F69C07B8320>"
            ]
          },
          "metadata": {
            "tags": []
          }
        }
      ]
    },
    {
      "cell_type": "markdown",
      "metadata": {
        "id": "zDcg--_4xB23",
        "colab_type": "text"
      },
      "source": [
        "**OPCION 2**"
      ]
    },
    {
      "cell_type": "code",
      "metadata": {
        "id": "jwdGemh6wwdR",
        "colab_type": "code",
        "colab": {
          "base_uri": "https://localhost:8080/",
          "height": 134
        },
        "outputId": "37622e33-03d3-43d2-a7b2-b85515af6bdf"
      },
      "source": [
        "import os\n",
        "path='/content/drive/My Drive/PDI/'\n",
        "os.chdir(path)\n",
        "!pwd\n",
        "\n",
        "\n",
        "from google.colab.patches import cv2_imshow\n",
        "img = cv2.imread('pdi.png', cv2.IMREAD_UNCHANGED)\n",
        "img = cv2.resize(img,(int(100), int(100)))\n",
        "cv2_imshow(img)\n"
      ],
      "execution_count": 21,
      "outputs": [
        {
          "output_type": "stream",
          "text": [
            "/content/drive/My Drive/PDI\n"
          ],
          "name": "stdout"
        },
        {
          "output_type": "display_data",
          "data": {
            "image/png": "[encoded data removed]",
            "text/plain": [
              "<PIL.Image.Image image mode=RGB size=100x100 at 0x7F69C07AE0B8>"
            ]
          },
          "metadata": {
            "tags": []
          }
        }
      ]
    },
    {
      "cell_type": "code",
      "metadata": {
        "id": "42w_zNr3x1ln",
        "colab_type": "code",
        "colab": {
          "base_uri": "https://localhost:8080/",
          "height": 327
        },
        "outputId": "b091a00c-1e2d-45b8-c808-d5735806fa7e"
      },
      "source": [
        "img_BRG = cv2.imread('pdi.png',cv2.IMREAD_COLOR)\n",
        "plt.figure(figsize=(7,7))\n",
        "plt.imshow(img_BRG)\n",
        "plt.show()"
      ],
      "execution_count": 25,
      "outputs": [
        {
          "output_type": "display_data",
          "data": {
            "image/png": "[encoded data removed]",
            "text/plain": [
              "<Figure size 504x504 with 1 Axes>"
            ]
          },
          "metadata": {
            "tags": []
          }
        }
      ]
    }
  ]
}